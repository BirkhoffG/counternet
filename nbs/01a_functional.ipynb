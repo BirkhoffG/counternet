{
 "cells": [
  {
   "cell_type": "code",
   "execution_count": null,
   "metadata": {},
   "outputs": [],
   "source": [
    "# default_exp utils.functional"
   ]
  },
  {
   "cell_type": "code",
   "execution_count": null,
   "metadata": {},
   "outputs": [],
   "source": [
    "# hide\n",
    "from ipynb_path import *"
   ]
  },
  {
   "cell_type": "code",
   "execution_count": null,
   "metadata": {},
   "outputs": [
    {
     "name": "stderr",
     "output_type": "stream",
     "text": [
      "Global seed set to 31\n"
     ]
    }
   ],
   "source": [
    "# export\n",
    "from counternet.import_essentials import *\n",
    "import functools\n"
   ]
  },
  {
   "cell_type": "code",
   "execution_count": null,
   "metadata": {},
   "outputs": [],
   "source": [
    "# export\n",
    "def _check_type(X):\n",
    "    if not torch.is_tensor(X):\n",
    "        if isinstance(X, np.ndarray):\n",
    "            X = torch.from_numpy(X)\n",
    "        elif isinstance(X, list):\n",
    "            X = torch.tensor(X)\n",
    "        elif isinstance(X, pd.DataFrame):\n",
    "            X = X.to_numpy()\n",
    "            X = torch.from_numpy(X)\n",
    "        elif isinstance(X, pd.Series):\n",
    "            X = X.values\n",
    "            X = torch.tensor(X)\n",
    "        else:\n",
    "            raise ValueError(f'input X should be one of these types: [`list`, `pd.DataFrame`, `np.ndarray`, `torch.Tensor`], but got {type(X)}')\n",
    "    return X.float()"
   ]
  },
  {
   "cell_type": "code",
   "execution_count": null,
   "metadata": {},
   "outputs": [
    {
     "data": {
      "text/plain": [
       "32561"
      ]
     },
     "execution_count": null,
     "metadata": {},
     "output_type": "execute_result"
    }
   ],
   "source": [
    "_ =_check_type([1, 2])\n",
    "_ =_check_type(np.array([1, 2]))\n",
    "_ =_check_type(pd.read_csv('assets/data/dummy_data.csv'))\n",
    "_ =_check_type(pd.read_csv('assets/data/adult.csv')['income'])"
   ]
  },
  {
   "cell_type": "code",
   "execution_count": null,
   "metadata": {},
   "outputs": [],
   "source": [
    "# export\n",
    "def check_input_type(func):\n",
    "    \"\"\"check if all inputs are torch.Tensor\"\"\"\n",
    "    @functools.wraps(func) \n",
    "    def wrapper_check_input_type(*args):\n",
    "        new_args = []\n",
    "        for X in list(args):\n",
    "            new_args.append(_check_type(X))\n",
    "        return func(*new_args)\n",
    "    return wrapper_check_input_type"
   ]
  },
  {
   "cell_type": "code",
   "execution_count": null,
   "metadata": {},
   "outputs": [],
   "source": [
    "@check_input_type\n",
    "def plus_two(x):\n",
    "    return x + 2\n",
    "\n",
    "_x = [1, 2]\n",
    "_x_np = np.array(_x)\n",
    "_x_torch = torch.tensor(_x)\n",
    "assert isinstance(plus_two(_x), torch.Tensor)\n",
    "assert isinstance(plus_two(_x_np), torch.Tensor)\n",
    "assert isinstance(plus_two(_x_torch), torch.FloatTensor)\n"
   ]
  },
  {
   "cell_type": "code",
   "execution_count": null,
   "metadata": {},
   "outputs": [],
   "source": [
    "@check_input_type\n",
    "def plus_two(x, y):\n",
    "    return x + y + 2\n",
    "\n",
    "_y = [1, 2]\n",
    "_y_np = np.array(_y)\n",
    "_y_torch = torch.tensor(_y)\n",
    "assert isinstance(plus_two(_x, _y), torch.Tensor)\n",
    "assert isinstance(plus_two(_x_np, _y_np), torch.Tensor)\n",
    "assert isinstance(plus_two(_x_torch, _y_torch), torch.FloatTensor)\n"
   ]
  },
  {
   "cell_type": "code",
   "execution_count": null,
   "metadata": {},
   "outputs": [],
   "source": [
    "# export\n",
    "def check_object_input_type(func):\n",
    "    \"\"\"check if all inputs are torch.Tensor\"\"\"\n",
    "    @functools.wraps(func) \n",
    "    def wrapper_check_input_type(ref, *args):\n",
    "        new_args = [ref]\n",
    "        for X in list(args):\n",
    "            new_args.append(_check_type(X))\n",
    "        return func(*new_args)\n",
    "    return wrapper_check_input_type"
   ]
  },
  {
   "cell_type": "code",
   "execution_count": null,
   "metadata": {},
   "outputs": [
    {
     "name": "stdout",
     "output_type": "stream",
     "text": [
      "122 µs ± 13.8 µs per loop (mean ± std. dev. of 7 runs, 1000 loops each)\n"
     ]
    }
   ],
   "source": [
    "%%timeit -n 1000\n",
    "class PlusTwo(object):\n",
    "    @check_object_input_type\n",
    "    def compute(self, x, y):\n",
    "        return x + y + 2\n",
    "\n",
    "test_obj = PlusTwo()\n",
    "\n",
    "assert isinstance(test_obj.compute(_x, _y), torch.Tensor)\n",
    "assert isinstance(test_obj.compute(_x_np, _y_np), torch.Tensor)\n",
    "assert isinstance(test_obj.compute(_x_torch, _y_torch), torch.FloatTensor)\n",
    "\n",
    "assert torch.equal(test_obj.compute(_x, _y), torch.tensor([4., 6.]))\n"
   ]
  },
  {
   "cell_type": "code",
   "execution_count": null,
   "metadata": {},
   "outputs": [],
   "source": []
  }
 ],
 "metadata": {
  "kernelspec": {
   "display_name": "Python 3.8.5 64-bit ('base': conda)",
   "name": "python3"
  }
 },
 "nbformat": 4,
 "nbformat_minor": 2
}
