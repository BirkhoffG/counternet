{
 "cells": [
  {
   "cell_type": "code",
   "execution_count": null,
   "metadata": {},
   "outputs": [],
   "source": [
    "# default_exp cf_explainer"
   ]
  },
  {
   "cell_type": "code",
   "execution_count": null,
   "metadata": {},
   "outputs": [],
   "source": [
    "# hide\n",
    "%load_ext autoreload\n",
    "%autoreload 2\n",
    "from ipynb_path import *"
   ]
  },
  {
   "cell_type": "code",
   "execution_count": null,
   "metadata": {},
   "outputs": [
    {
     "name": "stderr",
     "output_type": "stream",
     "text": [
      "Global seed set to 31\n"
     ]
    }
   ],
   "source": [
    "# export\n",
    "from counternet.import_essentials import *\n",
    "from counternet.utils import CategoricalNormalizer, flip_binary"
   ]
  },
  {
   "cell_type": "code",
   "execution_count": null,
   "metadata": {},
   "outputs": [],
   "source": [
    "# export\n",
    "class ExplainerBase(ABC):\n",
    "    @abstractmethod\n",
    "    def generate_cf(self, x: torch.Tensor):\n",
    "        pass"
   ]
  },
  {
   "cell_type": "code",
   "execution_count": null,
   "metadata": {},
   "outputs": [],
   "source": [
    "# export\n",
    "class LocalExplainerBase(nn.Module, ExplainerBase):\n",
    "    def __init__(self, pred_fn: Callable[[torch.Tensor], torch.Tensor], configs: Dict[str, Any]={}):\n",
    "        super().__init__()\n",
    "        self.pred_fn = pred_fn\n",
    "        self.configs = configs\n",
    "\n",
    "    def forward(self):\n",
    "        raise NotImplementedError\n",
    "\n",
    "    def compute_regularization_loss(self):\n",
    "        cat_idx = len(self.model.continous_cols)\n",
    "        regularization_loss = 0.\n",
    "        for i in range(self.n_cfs):\n",
    "            for col in self.model.cat_arrays:\n",
    "                cat_idx_end = cat_idx + len(col)\n",
    "                regularization_loss += torch.pow((torch.sum(self.cf[i][cat_idx: cat_idx_end]) - 1.0), 2)\n",
    "        return regularization_loss\n",
    "\n",
    "    def configure_optimizers(self):\n",
    "        return torch.optim.Adam([self.cf], lr=0.001)"
   ]
  },
  {
   "cell_type": "code",
   "execution_count": null,
   "metadata": {},
   "outputs": [],
   "source": [
    "# export\n",
    "class GlobalExplainerBase(ExplainerBase):\n",
    "    pass"
   ]
  },
  {
   "cell_type": "code",
   "execution_count": null,
   "metadata": {},
   "outputs": [],
   "source": [
    "# export\n",
    "class VanillaCF(LocalExplainerBase):\n",
    "    def __init__(self, pred_fn: Callable[[torch.Tensor], torch.Tensor],\n",
    "                       cat_normalizer: CategoricalNormalizer=None, configs: Dict[str, Any]={}):\n",
    "        \"\"\"vanilla version of counterfactual generation\n",
    "            - link: https://doi.org/10.2139/ssrn.3063289\n",
    "        Args:\n",
    "        \"\"\"\n",
    "        super().__init__(pred_fn, configs)\n",
    "        self.steps = configs.steps if 'steps' in configs else 1000\n",
    "        self.cat_normalizer = cat_normalizer\n",
    "        self.cf = None\n",
    "\n",
    "    def forward(self):\n",
    "        if self.cf is None:\n",
    "            raise NotImplementedError('cf has not been initialized...')\n",
    "        cf = self.cf * 1.0\n",
    "        return cf if self.cat_normalizer is None else self.cat_normalizer.normalize(cf)\n",
    "\n",
    "    def configure_optimizers(self):\n",
    "        return torch.optim.RMSprop([self.cf], lr=0.001)\n",
    "\n",
    "    def _loss_functions(self, x, c):\n",
    "        # target\n",
    "        y_pred = self.pred_fn(x)\n",
    "        y_prime = flip_binary(y_pred)\n",
    "\n",
    "        c_y = self.pred_fn(c)\n",
    "        l_1 = F.binary_cross_entropy(c_y, y_prime)\n",
    "        l_2 = F.mse_loss(x, c)\n",
    "        return l_1, l_2\n",
    "\n",
    "    def _loss_compute(self, l_1, l_2):\n",
    "        return 1.0 * l_1 + 0.5 * l_2\n",
    "\n",
    "    def generate_cf(self, x: torch.Tensor):\n",
    "        self.cf = nn.Parameter(x.clone())\n",
    "        optim = self.configure_optimizers()\n",
    "        for i in range(self.steps):\n",
    "            c = self()\n",
    "            l_1, l_2 = self._loss_functions(x, c)\n",
    "            loss = self._loss_compute(l_1, l_2)\n",
    "            optim.zero_grad()\n",
    "            loss.backward()\n",
    "            optim.step()\n",
    "\n",
    "        cf = self.cf * 1.0\n",
    "        return self.cat_normalizer.normalize(cf, hard=True)"
   ]
  },
  {
   "cell_type": "code",
   "execution_count": null,
   "metadata": {},
   "outputs": [],
   "source": []
  }
 ],
 "metadata": {
  "kernelspec": {
   "display_name": "Python 3.8.5 64-bit ('base': conda)",
   "name": "python3"
  }
 },
 "nbformat": 4,
 "nbformat_minor": 2
}
