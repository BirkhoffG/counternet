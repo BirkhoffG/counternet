{
 "cells": [
  {
   "cell_type": "code",
   "execution_count": null,
   "metadata": {},
   "outputs": [],
   "source": [
    "# default_exp pipeline"
   ]
  },
  {
   "cell_type": "code",
   "execution_count": null,
   "metadata": {},
   "outputs": [],
   "source": [
    "# hide\n",
    "%load_ext autoreload\n",
    "%autoreload 2\n",
    "from ipynb_path import *"
   ]
  },
  {
   "cell_type": "code",
   "execution_count": null,
   "metadata": {},
   "outputs": [
    {
     "name": "stderr",
     "output_type": "stream",
     "text": [
      "Global seed set to 31\n"
     ]
    }
   ],
   "source": [
    "# export\n",
    "from counternet.import_essentials import *\n",
    "from counternet.utils.all import *\n",
    "from counternet.training_module import *"
   ]
  },
  {
   "cell_type": "markdown",
   "metadata": {},
   "source": [
    "## Utils"
   ]
  },
  {
   "cell_type": "code",
   "execution_count": null,
   "metadata": {},
   "outputs": [],
   "source": [
    "# export\n",
    "def load_trained_model(module: BaseModule, checkpoint_path: str, gpus : int = 0) -> BaseModule:\n",
    "    # assuming checkpoint_path = f\"{dict_path}/epoch={n_epoch}-step={step}.ckpt\"\n",
    "    if not os.path.exists(checkpoint_path):\n",
    "        raise FileNotFoundError(f'{checkpoint_path} is not found.')\n",
    "\n",
    "    n_iter = int(checkpoint_path.split(\"-\")[0].split(\"=\")[-1]) + 1\n",
    "    model = module.load_from_checkpoint(checkpoint_path)\n",
    "    tmp_trainer = pl.Trainer(\n",
    "        max_epochs=n_iter, resume_from_checkpoint=checkpoint_path, num_sanity_val_steps=0, gpus=gpus,\n",
    "        logger=False, checkpoint_callback=False\n",
    "    )\n",
    "    tmp_trainer.fit(model)\n",
    "\n",
    "    return model"
   ]
  },
  {
   "cell_type": "markdown",
   "metadata": {},
   "source": [
    "## Trainer"
   ]
  },
  {
   "cell_type": "code",
   "execution_count": null,
   "metadata": {},
   "outputs": [],
   "source": [
    "# export\n",
    "class CFNetTrainer(object):\n",
    "    def __init__(self,\n",
    "                 model: BaseModule,\n",
    "                 t_configs: Dict[str, Any],\n",
    "                 callbacks: Optional[List[Callback]] = None,\n",
    "                 description: Optional[str] = None,\n",
    "                 debug: Optional[bool] = False,\n",
    "                 logger: Optional[LightningLoggerBase] = None,\n",
    "                 logger_name: str = \"debug\"):\n",
    "\n",
    "        if logger is None:\n",
    "            logger = pl_loggers.TestTubeLogger(\n",
    "                Path('../log/'),\n",
    "                name=logger_name,\n",
    "                description=description,\n",
    "                debug=debug,\n",
    "                log_graph=True\n",
    "            )\n",
    "\n",
    "        # model checkpoint\n",
    "        checkpoint_callback = ModelCheckpoint(\n",
    "            monitor='val/val_loss',\n",
    "            save_top_k=3,\n",
    "            mode='min'\n",
    "        )\n",
    "\n",
    "        # define callbacks\n",
    "        if callbacks is None:\n",
    "            callbacks = [checkpoint_callback]\n",
    "        elif self._has_no_model_checkpoint(callbacks):\n",
    "            callbacks += [checkpoint_callback]\n",
    "\n",
    "        self.trainer = pl.Trainer(\n",
    "            logger=logger,\n",
    "            callbacks=callbacks,\n",
    "            **t_configs\n",
    "        )\n",
    "\n",
    "        self.model = model\n",
    "\n",
    "    def _has_no_model_checkpoint(self, callbacks: List[Callback]) -> bool:\n",
    "        for callback in callbacks:\n",
    "            if isinstance(callback, ModelCheckpoint):\n",
    "                return False\n",
    "        return True\n",
    "\n",
    "    def fit(self, is_parallel=False):\n",
    "        if is_parallel:\n",
    "            logging.warning(\n",
    "                f\"parallel version has not been implemented\\nUsing the single process training...\")\n",
    "        self.trainer.fit(self.model)\n",
    "\n",
    "        return dict(\n",
    "            trainer=self.trainer,\n",
    "            module=self.model\n",
    "        )\n",
    "\n",
    "    def load_trained_model(self, checkpoint_path: str, gpus: int = 0) -> BaseModule:\n",
    "        self.model = load_trained_model(\n",
    "            self.model, checkpoint_path=checkpoint_path, gpus=gpus)\n",
    "        return self.model"
   ]
  },
  {
   "cell_type": "code",
   "execution_count": null,
   "metadata": {},
   "outputs": [],
   "source": [
    "t_config = load_json('assets/configs/trainer.json')\n",
    "m_config = load_json('assets/configs/adult.json')\n",
    "# model = "
   ]
  },
  {
   "cell_type": "markdown",
   "metadata": {},
   "source": [
    "## CF Generator\n",
    "- local explainer\n",
    "- global explainer"
   ]
  },
  {
   "cell_type": "code",
   "execution_count": null,
   "metadata": {},
   "outputs": [],
   "source": []
  }
 ],
 "metadata": {
  "kernelspec": {
   "display_name": "Python 3.8.5 64-bit ('base': conda)",
   "name": "python3"
  }
 },
 "nbformat": 4,
 "nbformat_minor": 2
}
